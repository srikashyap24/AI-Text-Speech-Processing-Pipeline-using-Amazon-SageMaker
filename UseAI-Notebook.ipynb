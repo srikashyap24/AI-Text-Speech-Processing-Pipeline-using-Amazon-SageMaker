{
 "cells": [
  {
   "cell_type": "markdown",
   "metadata": {},
   "source": [
    "# Use AI Services with Amazon SageMaker\n"
   ]
  },
  {
   "cell_type": "markdown",
   "metadata": {},
   "source": [
    "This notebook demonstrates the integration and use of various AWS AI services to process text and speech."
   ]
  },
  {
   "cell_type": "markdown",
   "metadata": {},
   "source": [
    "## Setup: Initializing AWS AI services"
   ]
  },
  {
   "cell_type": "code",
   "execution_count": 1,
   "metadata": {
    "execution": {
     "iopub.execute_input": "2025-09-03T09:19:20.809802Z",
     "iopub.status.busy": "2025-09-03T09:19:20.809532Z",
     "iopub.status.idle": "2025-09-03T09:19:21.145154Z",
     "shell.execute_reply": "2025-09-03T09:19:21.144428Z",
     "shell.execute_reply.started": "2025-09-03T09:19:20.809780Z"
    }
   },
   "outputs": [],
   "source": [
    "import boto3\n",
    "import json\n",
    "import urllib.request\n",
    "import time\n",
    "from IPython.display import Audio, display\n",
    "\n",
    "# Initialize clients\n",
    "textract = boto3.client('textract')\n",
    "comprehend = boto3.client('comprehend')\n",
    "translate = boto3.client('translate')\n",
    "transcribe = boto3.client('transcribe')\n",
    "polly = boto3.client('polly')\n",
    "s3 = boto3.resource('s3')"
   ]
  },
  {
   "cell_type": "markdown",
   "metadata": {},
   "source": [
    "## Step 1: Document processing with Amazon Textract"
   ]
  },
  {
   "cell_type": "markdown",
   "metadata": {},
   "source": [
    "This code helps us read and extract text from PDF documents stored in Amazon S3.\n",
    "\n",
    "Let's break down what this code does:\n",
    "\n",
    "1. We create a function called `extract_text_from_pdf` that needs two pieces of information:\n",
    "\n",
    "    - `bucket_name`: the name of our S3 storage location\n",
    "    - `document_name`: the name of our PDF file\n",
    "\n",
    "2. The function uses Amazon Textract (a service that can read documents) to:\n",
    "\n",
    "    - Look at our PDF file in S3\n",
    "    - Find all the text in the document\n",
    "    - Organize the text line by line\n",
    "\n",
    "3. After the text is extracted, we:\n",
    "\n",
    "    - Keep only the lines of text (ignoring other elements like images)\n",
    "    - Join all the lines together with line breaks between them\n",
    "    - Return the complete text as one big string\n",
    "\n",
    "4. Finally, we use this function by:\n",
    "\n",
    "    - Specifying our S3 bucket and PDF file names\n",
    "    - Calling our function to get the text\n",
    "    - Printing the first 1500 characters of the extracted text\n",
    "    \n",
    "    \n",
    "Think of it like having a robot that can read a PDF document and write down all the text it sees, line by line!"
   ]
  },
  {
   "cell_type": "code",
   "execution_count": 2,
   "metadata": {
    "execution": {
     "iopub.execute_input": "2025-09-03T09:20:43.560606Z",
     "iopub.status.busy": "2025-09-03T09:20:43.560251Z",
     "iopub.status.idle": "2025-09-03T09:20:46.765785Z",
     "shell.execute_reply": "2025-09-03T09:20:46.764983Z",
     "shell.execute_reply.started": "2025-09-03T09:20:43.560583Z"
    }
   },
   "outputs": [
    {
     "name": "stdout",
     "output_type": "stream",
     "text": [
      "Extracted Text:\n",
      " ABC Corporation - Client Communication Analysis Report\n",
      "Q1 2025\n",
      "Executive Summary:\n",
      "Our organization currently handles 10,000+ daily client communications across multiple languages and regions. This\n",
      "document outlines our current operational challenges and metrics.\n",
      "Current Process Statistics:\n",
      "- Daily Document Volume: 10,000+ communications\n",
      "- Annual Processing Cost: $1.5M\n",
      "- Current Error Rate: 15%\n",
      "- Processing Time: Up to 48 hours per document\n",
      "- Manual Staff Required: 20+ full-time employees\n",
      "Client Feedback Sample:\n",
      "We are extremely frustrated with the long processing times for our documentation. While the staff is professional, the\n",
      "delays are impacting our business operations significantly. We need faster turnaround times and better accuracy in\n",
      "translations. The current error rate in document processing is unacceptable for our business needs.\n",
      "International Client Requirements:\n",
      "Our clients in Asia Pacific region require immediate translation services for their documents, while European clients\n",
      "need real-time sentiment analysis of customer feedback. The current manual process is unable to meet these\n",
      "demanding requirements effectively.\n",
      "Urgent Action Required:\n",
      "Immediate process optimization is needed to address:\n",
      "- High error rates in document processing\n",
      "- Excessive processing times\n",
      "- Rising operational costs\n",
      "- Staff workload management\n",
      "- Multilingual communication challenges\n"
     ]
    }
   ],
   "source": [
    "def extract_text_from_pdf(bucket_name, document_name):\n",
    "    response = textract.detect_document_text(\n",
    "        Document={'S3Object': {'Bucket': bucket_name, 'Name': document_name}}\n",
    "    )\n",
    "    text = [item['Text'] for item in response['Blocks'] if item['BlockType'] == 'LINE']\n",
    "    return '\\n'.join(text)\n",
    "\n",
    "\n",
    "# Replace with your bucket and file\n",
    "bucket_name = \"lab-data-bucket-785303725811-144f5bb0\"\n",
    "document_name = \"ABC_Corporation.pdf\"\n",
    "extracted_text = extract_text_from_pdf(bucket_name, document_name)\n",
    "print(\"Extracted Text:\\n\", extracted_text[:1500])"
   ]
  },
  {
   "cell_type": "markdown",
   "metadata": {},
   "source": [
    "## Step 2: Sentiment analysis with Amazon Comprehend"
   ]
  },
  {
   "cell_type": "markdown",
   "metadata": {},
   "source": [
    "This code helps us understand the emotional tone of our text using Amazon Comprehend (which is like having an expert reader who can detect feelings in text). Here's what this code does:\n",
    "\n",
    "1. We create a function called `analyze_sentiment` that needs one piece of information:\n",
    "   - `text`: the text we want to analyze for sentiment\n",
    "\n",
    "2. The function uses Amazon Comprehend to:\n",
    "   - Look at the first 5000 characters of our text (this is Amazon Comprehend's limit)\n",
    "   - Analyze the text for emotional tone\n",
    "   - Set the language to English ('en')\n",
    "\n",
    "3. After the analysis, we:\n",
    "   - Store the sentiment results in a variable called `sentiment_result`\n",
    "   - Print \"Sentiment Analysis Result:\" as a header\n",
    "   - Print the detailed results in a nice, formatted way (using json.dumps)\n",
    "\n",
    "\n",
    "Think of it like having an emotional detective who reads your text and tells you if it's happy, sad, angry, or neutral!"
   ]
  },
  {
   "cell_type": "code",
   "execution_count": null,
   "metadata": {},
   "outputs": [],
   "source": [
    "def analyze_sentiment(text):\n",
    "    response = comprehend.detect_sentiment(\n",
    "        Text=text[:5000],  # Comprehend limit\n",
    "        LanguageCode='en'\n",
    "    )\n",
    "    return response\n",
    "\n",
    "\n",
    "sentiment_result = analyze_sentiment(extracted_text)\n",
    "print(\"Sentiment Analysis Result:\")\n",
    "print(json.dumps(sentiment_result, indent=2))"
   ]
  },
  {
   "cell_type": "markdown",
   "metadata": {},
   "source": [
    "Let's break down what this result tells us about our text:\n",
    "\n",
    "1. Overall Sentiment: The sentiment of the text was classified as \"NEUTRAL\"\n",
    "\n",
    "2. Sentiment Score Breakdown:\n",
    "   - Neutral: 97.93% confidence (very high)\n",
    "   - Positive: 1.43% confidence\n",
    "   - Negative: 0.58% confidence\n",
    "   - Mixed: 0.06% confidence\n",
    "\n",
    "This means Amazon Comprehend is very confident (97.93%) that the text has a neutral tone, with very minimal positive, negative, or mixed emotions detected. This kind of result is common when analyzing formal or technical documents.\n",
    "\n",
    "The rest of the output (ResponseMetadata) is just technical information about the API call, including:\n",
    "- A unique request ID\n",
    "- HTTP status code 200 (meaning successful request)\n",
    "- The timestamp of when the analysis was performed"
   ]
  },
  {
   "cell_type": "markdown",
   "metadata": {},
   "source": [
    "## Step 3: Language translation with Amazon Translate"
   ]
  },
  {
   "cell_type": "markdown",
   "metadata": {},
   "source": [
    "This code helps us translate text from one language to another using Amazon Translate (which is like having a multilingual translator at your service). Here's what this code does:\n",
    "\n",
    "1. We create a function called `translate_text` that needs two pieces of information:\n",
    "   - `text`: the text we want to translate\n",
    "   - `target_lang`: the language we want to translate to (defaults to Spanish 'es' if not specified)\n",
    "\n",
    "2. The function uses Amazon Translate to:\n",
    "   - Take the first 5000 characters of our text (due to size limits)\n",
    "   - Automatically detect the source language ('auto')\n",
    "   - Convert it to our target language\n",
    "   - Extract just the translated text from the response\n",
    "\n",
    "3. After creating the function, we:\n",
    "   - Call it with our extracted text and specify French ('fr') as the target language\n",
    "   - Print \"Translated Text (French):\" as a header\n",
    "   - Show the first 1500 characters of the translated text\n",
    "\n",
    "Think of it like having an instant translator who can take your text and convert it into any language you choose!"
   ]
  },
  {
   "cell_type": "code",
   "execution_count": null,
   "metadata": {},
   "outputs": [],
   "source": [
    "def translate_text(text, target_lang='es'):\n",
    "    response = translate.translate_text(\n",
    "        Text=text[:5000],\n",
    "        SourceLanguageCode='auto',\n",
    "        TargetLanguageCode=target_lang\n",
    "    )\n",
    "    return response['TranslatedText']\n",
    "\n",
    "\n",
    "translated_text = translate_text(extracted_text, 'fr')\n",
    "print(\"Translated Text (French):\\n\", translated_text[:1500])"
   ]
  },
  {
   "cell_type": "markdown",
   "metadata": {},
   "source": [
    "## Step 4: Text-to-speech conversion with Amazon Polly"
   ]
  },
  {
   "cell_type": "markdown",
   "metadata": {},
   "source": [
    "This code converts written text into spoken audio using Amazon Polly (which is like having a professional voice actor read your text). Here's what this code does:\n",
    "\n",
    "1. We create a function called `text_to_speech` that needs two pieces of information:\n",
    "   - `text`: the text we want to convert to speech\n",
    "   - `filename`: what we want to name our audio file\n",
    "\n",
    "2. The function uses Amazon Polly to:\n",
    "   - Take the first 3000 characters of our text\n",
    "   - Create an MP3 audio file\n",
    "   - Use 'Joanna' as the voice (one of Amazon Polly's AI voices)\n",
    "\n",
    "3. After getting the audio, we:\n",
    "   - Read the audio data stream\n",
    "   - Save the MP3 file to our S3 bucket in an 'audio-output' folder\n",
    "   - Print a confirmation message with the file location\n",
    "   - Create an audio player that can play the sound directly in our notebook\n",
    "\n",
    "4. Finally, we:\n",
    "   - Call the function with our extracted text (first 3000 characters)\n",
    "   - Display an audio player in the notebook that we can use to listen to the text\n",
    "\n",
    "\n",
    "Think of it like having a virtual assistant who can read your text out loud and save the recording for you to play anytime!"
   ]
  },
  {
   "cell_type": "code",
   "execution_count": null,
   "metadata": {},
   "outputs": [],
   "source": [
    "def text_to_speech(text, filename):\n",
    "    response = polly.synthesize_speech(\n",
    "        Text=text[:3000],\n",
    "        OutputFormat='mp3',\n",
    "        VoiceId='Joanna'\n",
    "    )\n",
    "\n",
    "    # Get the audio stream content\n",
    "    audio_stream = response['AudioStream'].read()\n",
    "\n",
    "    # Upload to S3\n",
    "    s3.Object(bucket_name, f\"audio-output/{filename}.mp3\").put(\n",
    "        Body=audio_stream\n",
    "    )\n",
    "\n",
    "    print(f\"Audio saved: s3://{bucket_name}/audio-output/{filename}.mp3\")\n",
    "\n",
    "    # Create audio player with the audio data directly\n",
    "    return Audio(data=audio_stream, autoplay=False)\n",
    "\n",
    "\n",
    "# Call the function and display the audio player\n",
    "audio_player = text_to_speech(extracted_text[:3000], \"lab-output\")\n",
    "display(audio_player)"
   ]
  },
  {
   "cell_type": "markdown",
   "metadata": {},
   "source": [
    "## Step 5: Audio-to-text transcription with Amazon Transcribe"
   ]
  },
  {
   "cell_type": "markdown",
   "metadata": {},
   "source": [
    "This code converts spoken audio back into text using Amazon Transcribe (which is like having a professional transcriptionist listen to audio and write down what they hear). Here's what this code does:\n",
    "\n",
    "1. We create a function called `transcribe_audio` that needs one piece of information:\n",
    "   - `audio_file`: the name of the MP3 file we want to transcribe\n",
    "\n",
    "2. The function uses Amazon Transcribe to:\n",
    "   - Start a transcription job with a specific name (\"lab-transcription-job\")\n",
    "   - Point to our audio file in the S3 bucket\n",
    "   - Specify that it's an MP3 file\n",
    "   - Set the language to US English\n",
    "\n",
    "3. The function then:\n",
    "   - Checks the job status every 5 seconds\n",
    "   - Waits until the job is either COMPLETED or FAILED\n",
    "   - If successful, gets the transcript text from the result\n",
    "   - If failed, returns an error message\n",
    "\n",
    "4. Finally, we:\n",
    "   - Call the function with our audio file name\n",
    "   - Print the transcribed text\n",
    "\n",
    "\n",
    "Think of it like having someone listen to your audio recording and type out everything they hear, word for word!"
   ]
  },
  {
   "cell_type": "code",
   "execution_count": null,
   "metadata": {},
   "outputs": [],
   "source": [
    "def transcribe_audio(audio_file):\n",
    "    job_name = \"lab-transcription-job\"\n",
    "    transcribe.start_transcription_job(\n",
    "        TranscriptionJobName=job_name,\n",
    "        Media={'MediaFileUri': f\"s3://{bucket_name}/audio-output/{audio_file}\"},\n",
    "        MediaFormat='mp3',\n",
    "        LanguageCode='en-US'\n",
    "    )\n",
    "    while True:\n",
    "        status = transcribe.get_transcription_job(TranscriptionJobName=job_name)\n",
    "        if status['TranscriptionJob']['TranscriptionJobStatus'] in ['COMPLETED', 'FAILED']:\n",
    "            break\n",
    "        time.sleep(5)\n",
    "    \n",
    "    # Get the transcript text from the JSON file\n",
    "    if status['TranscriptionJob']['TranscriptionJobStatus'] == 'COMPLETED':\n",
    "        transcript_uri = status['TranscriptionJob']['Transcript']['TranscriptFileUri']\n",
    "        response = urllib.request.urlopen(transcript_uri)\n",
    "        data = json.loads(response.read())\n",
    "        return data['results']['transcripts'][0]['transcript']\n",
    "    else:\n",
    "        return \"Transcription failed\"\n",
    "\n",
    "audio_file_name = \"lab-output.mp3\"\n",
    "transcript_text = transcribe_audio(audio_file_name)\n",
    "print(\"Transcription Text:\", transcript_text)"
   ]
  },
  {
   "cell_type": "markdown",
   "metadata": {},
   "source": [
    "## DIY challenge"
   ]
  },
  {
   "cell_type": "markdown",
   "metadata": {},
   "source": [
    "This is a template function for use in the DIY section. Here's what this code is set up to do:\n",
    "\n",
    "1. We have a function called `diy_polly_conversion` that currently:\n",
    "   - Uses the same text as before\n",
    "   - Has a 3000 character limit\n",
    "   - Uses 'Matthew' as the AI voice (different from our previous example with 'Joanna')\n",
    "   - You must replace the text/variable for OutputFormat\n",
    "\n",
    "2. You must replace the text/variable for Body in the code that uploads the .mp3 file to S3.\n",
    "3. Refer to the Polly code cell in Step 4 for guidance."
   ]
  },
  {
   "cell_type": "code",
   "execution_count": null,
   "metadata": {},
   "outputs": [],
   "source": [
    "def diy_polly_conversion(text, filename):\n",
    "\n",
    "    # TODO: Modify this function\n",
    "    response = polly.synthesize_speech(\n",
    "        Text=text[:3000],\n",
    "        OutputFormat='<replace>',\n",
    "        VoiceId='Matthew'\n",
    "    )\n",
    "\n",
    "    # Get the audio stream content\n",
    "    audio_stream = response['AudioStream'].read()\n",
    "\n",
    "    # TODO: Modify this function\n",
    "    s3.Object(bucket_name, f\"diy-output/{filename}.mp3\").put(\n",
    "        Body=\"<replace>\"\n",
    "    )\n",
    "\n",
    "    print(f\"Audio saved: s3://{bucket_name}/diy-output/{filename}.mp3\")\n",
    "\n",
    "    # Create audio player with the audio data directly\n",
    "    return Audio(data=audio_stream, autoplay=False)\n",
    "\n",
    "\n",
    "# Call the function and display the audio player\n",
    "audio_player = diy_polly_conversion(extracted_text[:3000], \"diy-result\")\n",
    "display(audio_player)"
   ]
  }
 ],
 "metadata": {
  "kernelspec": {
   "display_name": "Python 3 (ipykernel)",
   "language": "python",
   "name": "python3"
  },
  "language_info": {
   "codemirror_mode": {
    "name": "ipython",
    "version": 3
   },
   "file_extension": ".py",
   "mimetype": "text/x-python",
   "name": "python",
   "nbconvert_exporter": "python",
   "pygments_lexer": "ipython3",
   "version": "3.12.9"
  }
 },
 "nbformat": 4,
 "nbformat_minor": 4
}
